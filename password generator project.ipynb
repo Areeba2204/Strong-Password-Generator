{
 "cells": [
  {
   "cell_type": "code",
   "execution_count": 1,
   "id": "5d69facd",
   "metadata": {},
   "outputs": [
    {
     "name": "stdout",
     "output_type": "stream",
     "text": [
      "Enter the length of the password: 8\n",
      "Enter how many passwords would you like: 4\n",
      "Random Password:  3u>3K>K>\n",
      "Strong Password is:  >33>>KuK\n",
      "Random Password:  >u3K3K3>\n",
      "Strong Password is:  >u3>u3uu\n",
      "Random Password:  >uK>K>>3\n",
      "Strong Password is:  >>>>>3>>\n",
      "Random Password:  u>3>3Ku>\n",
      "Strong Password is:  >3>>>>3>\n"
     ]
    }
   ],
   "source": [
    "import random\n",
    "\n",
    "import array\n",
    "\n",
    "\n",
    "numbers = ['0', '1', '2', '3', '4', '5', '6', '7', '8', '9']\n",
    "\n",
    "uppercase_char = ['A', 'B', 'C', 'D', 'E', 'F', 'G', 'H', 'I',\n",
    "                  'J', 'K', 'L', 'M', 'N', 'O', 'P', 'Q', 'R', \n",
    "                  'S', 'T', 'U', 'V', 'W', 'X', 'Y', 'Z']\n",
    "\n",
    "lowercase_char = ['a', 'b', 'c', 'd', 'e', 'f', 'g', 'h', 'i', \n",
    "                  'j', 'k', 'l', 'm', 'n', 'o', 'p', 'q', 'r', \n",
    "                  's', 't', 'u', 'v', 'w', 'x', 'y', 'z']\n",
    "\n",
    "special_char = ['@', '#', '$', '%', '=', ':', '?', '.', '/', \n",
    "                '|', '~', '>', '*', '(', ')', '<']\n",
    "\n",
    "combo = numbers + uppercase_char + lowercase_char + special_char\n",
    "         \n",
    "r_num = random.choice(numbers)\n",
    "r_upper = random.choice(uppercase_char)\n",
    "r_lower = random.choice(lowercase_char)\n",
    "r_special = random.choice(special_char)\n",
    "\n",
    "r_password = r_num + r_upper + r_lower + r_special\n",
    "        \n",
    "while 1:\n",
    "    \n",
    "    password_length = int(input(\"Enter the length of the password: \"))\n",
    "    password_count = int(input(\"Enter how many passwords would you like: \"))\n",
    "\n",
    "    for x in range(0, password_count):\n",
    "        password= ''\n",
    "        for x in range(0, password_length):\n",
    "            password = password + random.choice(r_password)\n",
    "              \n",
    "            strong_password = ''   \n",
    "            for x in range(0, password_length):\n",
    "                strong_password += random.choice(password)    \n",
    " \n",
    "    \n",
    "        print(\"Random Password: \", password)    \n",
    "        print(\"Strong Password is: \", strong_password)\n",
    "    \n",
    "    break"
   ]
  },
  {
   "cell_type": "code",
   "execution_count": null,
   "id": "cc979284",
   "metadata": {},
   "outputs": [],
   "source": []
  },
  {
   "cell_type": "code",
   "execution_count": null,
   "id": "0a283606",
   "metadata": {},
   "outputs": [],
   "source": []
  }
 ],
 "metadata": {
  "kernelspec": {
   "display_name": "Python 3 (ipykernel)",
   "language": "python",
   "name": "python3"
  },
  "language_info": {
   "codemirror_mode": {
    "name": "ipython",
    "version": 3
   },
   "file_extension": ".py",
   "mimetype": "text/x-python",
   "name": "python",
   "nbconvert_exporter": "python",
   "pygments_lexer": "ipython3",
   "version": "3.9.7"
  }
 },
 "nbformat": 4,
 "nbformat_minor": 5
}
